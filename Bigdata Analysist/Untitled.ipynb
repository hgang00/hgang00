{
 "cells": [
  {
   "cell_type": "code",
   "execution_count": 1,
   "metadata": {},
   "outputs": [],
   "source": [
    "engDig=[\"Zero\", \"One\", \"Two\",\"Three\", \"Four\", \"Five\", \"Six\", \"Seven\", \"Eight\", \"Nine\"]"
   ]
  },
  {
   "cell_type": "code",
   "execution_count": null,
   "metadata": {},
   "outputs": [],
   "source": [
    "def digitsToWords(num):\n",
    "    if len(num) == 1: #한 자리 숫자이면 engDig에서 해당하는 숫자 출력\n",
    "        return engDig[num[0]]\n",
    "    else: #한 자리 이상인 경우\n",
    "        head = num[0] #가장 앞 자리 수\n",
    "        if head == 0:\n",
    "            return digitsToWords(num[1:])\n",
    "        read = []\n",
    "        if head != 1: #가장 앞자리 1 아닐때\n",
    "            part_read.append(engDig[head])\n",
    "        read.append(digitsToWords(num[1:]))\n",
    "        return read"
   ]
  },
  {
   "cell_type": "code",
   "execution_count": 10,
   "metadata": {},
   "outputs": [
    {
     "name": "stdout",
     "output_type": "stream",
     "text": [
      "1110"
     ]
    }
   ],
   "source": [
    "def RECURSIVE(x):\n",
    "    if x==0:\n",
    "        return\n",
    "    else: \n",
    "        RECURSIVE(x//2)\n",
    "        print(x%2, end = '')\n",
    "\n",
    "RECURSIVE(14)"
   ]
  },
  {
   "cell_type": "code",
   "execution_count": null,
   "metadata": {},
   "outputs": [],
   "source": []
  }
 ],
 "metadata": {
  "kernelspec": {
   "display_name": "Python 3",
   "language": "python",
   "name": "python3"
  },
  "language_info": {
   "codemirror_mode": {
    "name": "ipython",
    "version": 3
   },
   "file_extension": ".py",
   "mimetype": "text/x-python",
   "name": "python",
   "nbconvert_exporter": "python",
   "pygments_lexer": "ipython3",
   "version": "3.7.1"
  }
 },
 "nbformat": 4,
 "nbformat_minor": 2
}
